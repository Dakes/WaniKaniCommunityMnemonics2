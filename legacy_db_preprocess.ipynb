{
 "cells": [
  {
   "cell_type": "markdown",
   "id": "41976a40-3354-489e-af42-586e6addac2e",
   "metadata": {},
   "source": [
    "# Clean old WKCM data\n",
    "Removes all HTML tags (not generalized, only the ones in the sheet at the time)   \n",
    "Replaces highlighting tags with custom markup tags  \n",
    "Replaces users c and ript:void(0) caused by bugs in the old version with Anonymous  \n",
    "Replaces old delimiter (pipe: |) by obscure Group separator control character  "
   ]
  },
  {
   "cell_type": "code",
   "execution_count": 16,
   "id": "edad17c5-2898-433e-ac24-63be6bff8e40",
   "metadata": {},
   "outputs": [],
   "source": [
    "import pandas as pd\n",
    "import requests\n",
    "import re"
   ]
  },
  {
   "cell_type": "code",
   "execution_count": 17,
   "id": "0872776a-6c59-40bc-ab5f-2a57a55b1b7c",
   "metadata": {},
   "outputs": [],
   "source": [
    "# \"real\" Group Separator in the middle, visual GS  on the outside \n",
    "# (GS will just be removed in JS, its just for visual differentiation on google sheets)\n",
    "# print(u'\\u001D')\n",
    "# print(u'\\u241D')\n",
    "separator = \"␝\u001d",
    "␝\""
   ]
  },
  {
   "cell_type": "code",
   "execution_count": 74,
   "id": "a2a3693f-08fa-4ef7-b099-d2550023dde8",
   "metadata": {},
   "outputs": [],
   "source": [
    "# Download data as csv by hand and read\n",
    "df = pd.read_csv(\"~/Documents/JavaScript/WKCM2/WKCMDB_wkcmdb_1.csv\", sep=',')"
   ]
  },
  {
   "cell_type": "code",
   "execution_count": 75,
   "id": "dcf8f2a2-4ea1-4aec-afea-7c2364b15966",
   "metadata": {
    "tags": []
   },
   "outputs": [],
   "source": [
    "# Delete emty and unnecesarry columns\n",
    "for i in range(9, 26):\n",
    "    col = \"Unnamed: \" + str(i)\n",
    "    try:\n",
    "        df.drop(columns=col, inplace=True)\n",
    "    except KeyError as e:\n",
    "        pass\n",
    "df.drop(columns=\"Info\", inplace=True)"
   ]
  },
  {
   "cell_type": "code",
   "execution_count": 76,
   "id": "283b4b1b-dcc8-4cc3-82a2-3bd068205c5d",
   "metadata": {},
   "outputs": [],
   "source": [
    "# cleanup functions\n",
    "def update_users(x):\n",
    "    if type(x) is float:\n",
    "        return \"\"\n",
    "    users = x.split(\"|\")\n",
    "    #print(users)\n",
    "    for idx in range(len(users)):\n",
    "        if users[idx] == \"c\" or users[idx] == \"ript:void(0)\":\n",
    "            users[idx] = \"Anonymous\"\n",
    "    x = separator.join(users)\n",
    "    return x\n",
    "\n",
    "def remove_html_tags(text):\n",
    "    \"\"\"Remove html tags from a string\"\"\"\n",
    "    import re\n",
    "    clean = re.compile('<.*?>')\n",
    "    return re.sub(clean, '', text)\n",
    "\n",
    "def update_score(x):\n",
    "    if type(x) is float:\n",
    "        if math.isnan(x):\n",
    "            x = \"\"\n",
    "        else:\n",
    "            x = int(x)\n",
    "\n",
    "    x = str(x)\n",
    "\n",
    "    x = x.split(\"|\")\n",
    "    x = separator.join(x)\n",
    "\n",
    "    return x\n",
    "\n",
    "def update_mnem(x):\n",
    "    if type(x) is float:\n",
    "        return \"\"\n",
    "    \n",
    "    x = x.replace('</span>', '[/span]')\n",
    "    x = x.replace('<span class=\"highlight-kanji\">', '[kan]')\n",
    "    x = x.replace('<span class=\"kanji-highlight\">', '[kan]')\n",
    "    x = x.replace('<span class=\"highlight-vocabulary\">', '[voc]')\n",
    "    x = x.replace('<span class=\"vocabulary-highlight\">', '[voc]')\n",
    "    x = x.replace('<span class=\"highlight-radical\">', '[rad]')\n",
    "    x = x.replace('<span class=\"radical-highlight\">', '[rad]')\n",
    "    x = x.replace('<span class=\"highlight-reading\">', '[read]')\n",
    "    x = x.replace('<span class=\"reading-highlight\">', '[read]')\n",
    "    \n",
    "    x = x.replace(\"<b>\", \"[b]\")\n",
    "    x = x.replace(\"</b>\", \"[/b]\")\n",
    "    x = x.replace(\"<i>\", \"[i]\")\n",
    "    x = x.replace(\"</i>\", \"[/i]\")\n",
    "    x = x.replace(\"<u>\", \"[u]\")\n",
    "    x = x.replace(\"</u>\", \"[/u]\")\n",
    "    x = x.replace(\"<s>\", \"[s]\")\n",
    "    x = x.replace(\"</s>\", \"[/s]\")\n",
    "    # x = x.replace(\"<img\", \"[img\")\n",
    "    x = x.replace(\"<br>\", \"\\n\")\n",
    "    x = x.replace(\"<br/>\", \"\\n\")\n",
    "    x = x.replace(\"</br>\", \"\\n\")\n",
    "    x = x.replace(\"<br />\", \"\\n\")\n",
    "    \n",
    "    # only replaces the first img tag. All after that are deleted\n",
    "    img_content = x[x.find(start:='<img')+len(start):x.find('>')]\n",
    "    pattern = \"\\<img(.*?)\\>\"\n",
    "    substring = re.search(pattern, x)\n",
    "    if substring:\n",
    "        substring = substring.group(1)\n",
    "        x = re.sub('\\<img(.*?)\\>', '[img asdkljfasi]', x)\n",
    "        x = x.replace(\"asdkljfasi\", substring)\n",
    "    \n",
    "    x = remove_html_tags(x)\n",
    "    \n",
    "    mnems = x.split(\"|\")\n",
    "    x = separator.join(mnems)\n",
    "    return x\n"
   ]
  },
  {
   "cell_type": "code",
   "execution_count": 77,
   "id": "7b38098c-b3b2-491b-9df7-dfb3239b00c8",
   "metadata": {
    "tags": []
   },
   "outputs": [],
   "source": [
    "# actual cleanup of columns\n",
    "df[\"Meaning_User\"] = df[\"Meaning_User\"].apply(update_users)\n",
    "df[\"Reading_User\"] = df[\"Reading_User\"].apply(update_users)\n",
    "\n",
    "df[\"Reading_Mnem\"] = df[\"Reading_Mnem\"].apply(update_mnem)\n",
    "df[\"Meaning_Mnem\"] = df[\"Meaning_Mnem\"].apply(update_mnem)\n",
    "\n",
    "df[\"Meaning_Score\"] = df[\"Meaning_Score\"].apply(update_score)\n",
    "df[\"Reading_Score\"] = df[\"Reading_Score\"].apply(update_score)"
   ]
  },
  {
   "cell_type": "markdown",
   "id": "91159994-8ea0-45c0-8c7d-7668ddb3f19e",
   "metadata": {},
   "source": [
    "## Upload to google sheet\n",
    "requires a google sheets api access and service account credentials in *.json"
   ]
  },
  {
   "cell_type": "code",
   "execution_count": 44,
   "id": "1309068a-6f10-4606-b609-77f87328871f",
   "metadata": {},
   "outputs": [],
   "source": [
    "\n",
    "import gspread\n",
    "from gspread_dataframe import set_with_dataframe"
   ]
  },
  {
   "cell_type": "code",
   "execution_count": 80,
   "id": "299b86e4-09c0-4dff-8943-871006a76ce0",
   "metadata": {},
   "outputs": [],
   "source": [
    "# ACCES GOOGLE SHEET\n",
    "gc = gspread.service_account(filename='/home/dakes/Documents/JavaScript/WKCM2/wkcm2-332109-975b83d32a97.json')\n",
    "sh = gc.open_by_key('13oZkp8eS059nxsYc6fOJNC3PjXVnFvUC8ntRt8fdoCs')\n",
    "worksheet = sh.get_worksheet(2) #-> 0 - first sheet, 1 - second sheet etc. "
   ]
  },
  {
   "cell_type": "code",
   "execution_count": 81,
   "id": "4d6dba6d-22e9-4be8-bd9c-b564f60a5a7f",
   "metadata": {},
   "outputs": [],
   "source": [
    "# APPEND DATA TO SHEET\n",
    "#your_dataframe = pd.DataFrame()\n",
    "set_with_dataframe(worksheet, df) #-> THIS EXPORTS YOUR DATAFRAME TO THE GOOGLE SHEET"
   ]
  },
  {
   "cell_type": "markdown",
   "id": "04c687b3-90f4-47f7-9ae4-7de951c06274",
   "metadata": {},
   "source": [
    "# after upload\n",
    "\n",
    "- create filter for ever entry without Meaning_User and Reading_User. \n",
    "- Add Anonymous to the few Mnemonics without user. \n",
    "- Delete all other (empty) entries. \n",
    "\n",
    "Next split Item into Type and Item: \n",
    "- in Item replace all k => k| and v => v|\n",
    "- insert column to right\n",
    "- Mark A -> Data -> Split Text into columns -> custom separator |\n",
    "- Rename columns"
   ]
  },
  {
   "cell_type": "code",
   "execution_count": null,
   "id": "4c12376e-678c-4a38-81e6-0fa467f7fc55",
   "metadata": {},
   "outputs": [],
   "source": []
  }
 ],
 "metadata": {
  "kernelspec": {
   "display_name": "Python 3 (ipykernel)",
   "language": "python",
   "name": "python3"
  },
  "language_info": {
   "codemirror_mode": {
    "name": "ipython",
    "version": 3
   },
   "file_extension": ".py",
   "mimetype": "text/x-python",
   "name": "python",
   "nbconvert_exporter": "python",
   "pygments_lexer": "ipython3",
   "version": "3.8.12"
  }
 },
 "nbformat": 4,
 "nbformat_minor": 5
}
